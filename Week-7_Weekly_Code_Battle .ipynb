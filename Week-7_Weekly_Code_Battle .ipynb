{
 "cells": [
  {
   "cell_type": "markdown",
   "metadata": {},
   "source": [
    "#### Firstly I imported time from lib\n",
    "#### Then I(Arturo) Will enter the number of seconds before everyone is deceived.\n",
    "#### As I know what to be given as input I would not give any text for taking input.(It can alert others)\n",
    "#### Then i used for loop and \"in\" membership function which gives \"true or false \" value and then a range() to get the range of numbers.\n",
    "#### Then i printed the remaining seconds as\"'x'seconds remaining before you get deceived\" to scare everyone.\n",
    "#### And now gave a sleep() to wait for 1 sec before printing the same.\n",
    "#### And at last printed \"You were Deceived\""
   ]
  },
  {
   "cell_type": "code",
   "execution_count": 14,
   "metadata": {},
   "outputs": [
    {
     "name": "stdout",
     "output_type": "stream",
     "text": [
      " 25\n",
      "25 seconds remaining before you get deceived\n",
      "24 seconds remaining before you get deceived\n",
      "23 seconds remaining before you get deceived\n",
      "22 seconds remaining before you get deceived\n",
      "21 seconds remaining before you get deceived\n",
      "20 seconds remaining before you get deceived\n",
      "19 seconds remaining before you get deceived\n",
      "18 seconds remaining before you get deceived\n",
      "17 seconds remaining before you get deceived\n",
      "16 seconds remaining before you get deceived\n",
      "15 seconds remaining before you get deceived\n",
      "14 seconds remaining before you get deceived\n",
      "13 seconds remaining before you get deceived\n",
      "12 seconds remaining before you get deceived\n",
      "11 seconds remaining before you get deceived\n",
      "10 seconds remaining before you get deceived\n",
      "9 seconds remaining before you get deceived\n",
      "8 seconds remaining before you get deceived\n",
      "7 seconds remaining before you get deceived\n",
      "6 seconds remaining before you get deceived\n",
      "5 seconds remaining before you get deceived\n",
      "4 seconds remaining before you get deceived\n",
      "3 seconds remaining before you get deceived\n",
      "2 seconds remaining before you get deceived\n",
      "1 seconds remaining before you get deceived\n",
      "You were Deceived\n"
     ]
    }
   ],
   "source": [
    "import time\n",
    "inSec = int(input(\" \"))\n",
    "for i in range(inSec):\n",
    "    print(str(inSec - i )+ \" seconds remaining before you get deceived\")\n",
    "    time.sleep(1)\n",
    "print(\"You were Deceived\")"
   ]
  },
  {
   "cell_type": "code",
   "execution_count": null,
   "metadata": {},
   "outputs": [],
   "source": []
  }
 ],
 "metadata": {
  "kernelspec": {
   "display_name": "Python 3",
   "language": "python",
   "name": "python3"
  },
  "language_info": {
   "codemirror_mode": {
    "name": "ipython",
    "version": 3
   },
   "file_extension": ".py",
   "mimetype": "text/x-python",
   "name": "python",
   "nbconvert_exporter": "python",
   "pygments_lexer": "ipython3",
   "version": "3.7.6"
  }
 },
 "nbformat": 4,
 "nbformat_minor": 4
}
